{
  "metadata": {
    "language_info": {
      "codemirror_mode": {
        "name": "python",
        "version": 3
      },
      "file_extension": ".py",
      "mimetype": "text/x-python",
      "name": "python",
      "nbconvert_exporter": "python",
      "pygments_lexer": "ipython3",
      "version": "3.8"
    },
    "kernelspec": {
      "name": "python",
      "display_name": "Pyolite",
      "language": "python"
    }
  },
  "nbformat_minor": 4,
  "nbformat": 4,
  "cells": [
    {
      "cell_type": "markdown",
      "source": "# My Jupyter Notebook on IBM Watson Studio #",
      "metadata": {}
    },
    {
      "cell_type": "markdown",
      "source": "**Drilon Veliu**\nData Scientist\n",
      "metadata": {}
    },
    {
      "cell_type": "markdown",
      "source": "*I am interested in data science because I am excited to build skills for a more inclusive and productive future.*",
      "metadata": {}
    },
    {
      "cell_type": "markdown",
      "source": "### The feature code is just a simpe code which defines a variable and then does a simple math equation. ###",
      "metadata": {}
    },
    {
      "cell_type": "code",
      "source": "a = 1\na + a ",
      "metadata": {
        "trusted": true
      },
      "execution_count": 4,
      "outputs": [
        {
          "execution_count": 4,
          "output_type": "execute_result",
          "data": {
            "text/plain": "2"
          },
          "metadata": {}
        }
      ]
    },
    {
      "cell_type": "markdown",
      "source": "[x] Start Coursera\n[ ] Finish Coursera\n[ ] Find a good job\n\n\n~~Strike this please~~\n\n\n\n| Fall | Winter |\n| ------ | ------ |\n| Course 1 | Course 2 |",
      "metadata": {}
    }
  ]
}